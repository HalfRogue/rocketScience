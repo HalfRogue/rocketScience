{
  "cells": [
    {
      "cell_type": "markdown",
      "metadata": {
        "id": "rEoHDnZ9RtBK"
      },
      "source": [
        "# Homework 3"
      ]
    },
    {
      "cell_type": "code",
      "execution_count": null,
      "metadata": {
        "id": "pvK0KkKLRtBV"
      },
      "outputs": [],
      "source": [
        "# Chebyshev Ivan"
      ]
    },
    {
      "cell_type": "code",
      "source": [
        "# For some weird reason I got AttributeError caused by plot() in matplotlib, so I had to install it again, I guess\n",
        "!pip install matplotlib"
      ],
      "metadata": {
        "colab": {
          "base_uri": "https://localhost:8080/"
        },
        "id": "qOp-lNPZ_qok",
        "outputId": "f3ead9d8-49f9-4221-8d05-c651f16fb7f9"
      },
      "execution_count": null,
      "outputs": [
        {
          "output_type": "stream",
          "name": "stdout",
          "text": [
            "Looking in indexes: https://pypi.org/simple, https://us-python.pkg.dev/colab-wheels/public/simple/\n",
            "Requirement already satisfied: matplotlib in /usr/local/lib/python3.8/dist-packages (3.2.2)\n",
            "Requirement already satisfied: python-dateutil>=2.1 in /usr/local/lib/python3.8/dist-packages (from matplotlib) (2.8.2)\n",
            "Requirement already satisfied: numpy>=1.11 in /usr/local/lib/python3.8/dist-packages (from matplotlib) (1.21.6)\n",
            "Requirement already satisfied: pyparsing!=2.0.4,!=2.1.2,!=2.1.6,>=2.0.1 in /usr/local/lib/python3.8/dist-packages (from matplotlib) (3.0.9)\n",
            "Requirement already satisfied: cycler>=0.10 in /usr/local/lib/python3.8/dist-packages (from matplotlib) (0.11.0)\n",
            "Requirement already satisfied: kiwisolver>=1.0.1 in /usr/local/lib/python3.8/dist-packages (from matplotlib) (1.4.4)\n",
            "Requirement already satisfied: six>=1.5 in /usr/local/lib/python3.8/dist-packages (from python-dateutil>=2.1->matplotlib) (1.15.0)\n"
          ]
        }
      ]
    },
    {
      "cell_type": "code",
      "source": [
        "# This is my setup cell, beware of stray arrays and radioactive activity\n",
        "import numpy as np\n",
        "import pandas as pd\n",
        "import matplotlib.pyplot as plt\n",
        "import seaborn as sn\n",
        "import plotly.express as px\n",
        "import sklearn as sk\n",
        "import tensorflow as tf\n",
        "from sklearn.model_selection import train_test_split"
      ],
      "metadata": {
        "id": "qHldqp3hTNlf"
      },
      "execution_count": null,
      "outputs": []
    },
    {
      "cell_type": "code",
      "source": [
        "from google.colab import drive\n",
        "drive.mount('/content/drive')"
      ],
      "metadata": {
        "colab": {
          "base_uri": "https://localhost:8080/"
        },
        "id": "i1uvMhv8M9y6",
        "outputId": "7feb29c9-3d69-4f34-a71b-6a80ca30007e"
      },
      "execution_count": null,
      "outputs": [
        {
          "output_type": "stream",
          "name": "stdout",
          "text": [
            "Mounted at /content/drive\n"
          ]
        }
      ]
    },
    {
      "cell_type": "code",
      "source": [
        "# Importing datasets\n",
        "df = pd.read_csv('temp_data.csv')\n",
        "print('Lock and load')"
      ],
      "metadata": {
        "colab": {
          "base_uri": "https://localhost:8080/"
        },
        "id": "-XPI2VQ69uP1",
        "outputId": "f576b258-ef49-4789-ae98-7cfdd2d7bf03"
      },
      "execution_count": null,
      "outputs": [
        {
          "output_type": "stream",
          "name": "stdout",
          "text": [
            "Lock and load\n"
          ]
        }
      ]
    },
    {
      "cell_type": "markdown",
      "metadata": {
        "id": "cJTtoeMZRtBY"
      },
      "source": [
        "<img style=\"float: left; height: 5.5em;\" alt = \"Book\" src=\"https://m.media-amazon.com/images/I/51c1VrgvhVL.jpg\">\n",
        "Here, you are invited to resolve 10 Data Analysis Tasks (each of 3 points).<br>\n",
        "Please, find out helpful material, placed in the book Vanderplas, J. T. (2016). Python Data Science Handbook : Essential Tools for Working with Data; and the <a href=\"https://github.com/jakevdp/PythonDataScienceHandbook\" target=\"_blank\" rel=\"noopener noreferrer\">notebooks for each chapter</a>."
      ]
    },
    {
      "cell_type": "markdown",
      "metadata": {
        "id": "NIq9kZOnRtBZ"
      },
      "source": [
        "## Temperature Data Analysis\n",
        "Use `temp_data.csv` with historical temperatures (in Celsius) for given city.\n",
        "\n",
        "**Useful links**: [10 minutes to pandas](https://pandas.pydata.org/pandas-docs/stable/user_guide/10min.html), [pandas Q&A](https://nbviewer.jupyter.org/github/justmarkham/pandas-videos/blob/master/pandas.ipynb), [matplotlib documentation](https://matplotlib.org/users/index.html), [matplotlib examples](https://matplotlib.org/examples/), [seaborn documentation](https://seaborn.pydata.org/#).\n",
        "\n",
        "---\n",
        "\n",
        "**Task 1**. Find out average temperatures by combinations of years and seasons (Winter, Spring, Summer, Autumn).\n",
        "\n",
        "**Task 2**. Reproduce the chart (pay attention on all details) that is given below.\n",
        "\n",
        "\n",
        "<img alt = \"chart\" src=\"https://raw.githubusercontent.com/ternikov/hse/gh-pages/hw5/plot.png\">"
      ]
    },
    {
      "cell_type": "code",
      "execution_count": null,
      "metadata": {
        "colab": {
          "base_uri": "https://localhost:8080/",
          "height": 648
        },
        "id": "ajokEbXlRtBb",
        "outputId": "8d4ac485-5282-498d-c68a-0eced13dfef4"
      },
      "outputs": [
        {
          "output_type": "stream",
          "name": "stdout",
          "text": [
            "<class 'pandas.core.frame.DataFrame'>\n",
            "RangeIndex: 672 entries, 0 to 671\n",
            "Data columns (total 3 columns):\n",
            " #   Column  Non-Null Count  Dtype  \n",
            "---  ------  --------------  -----  \n",
            " 0   year    672 non-null    float64\n",
            " 1   month   672 non-null    float64\n",
            " 2   temp    672 non-null    float64\n",
            "dtypes: float64(3)\n",
            "memory usage: 15.9 KB\n",
            "None\n"
          ]
        },
        {
          "output_type": "execute_result",
          "data": {
            "text/plain": [
              "      year  month       temp\n",
              "0   1952.0    1.0  -1.400966\n",
              "1   1952.0    2.0  -4.000000\n",
              "2   1952.0    3.0 -10.106838\n",
              "3   1952.0    4.0   4.226190\n",
              "4   1952.0    5.0   7.037037\n",
              "5   1952.0    6.0  13.611111\n",
              "6   1952.0    7.0  16.230159\n",
              "7   1952.0    8.0  14.157706\n",
              "8   1952.0    9.0   8.461538\n",
              "9   1952.0   10.0   2.162698\n",
              "10  1952.0   11.0  -2.380952\n",
              "11  1952.0   12.0  -2.911111\n",
              "12  1953.0    1.0  -5.396825"
            ],
            "text/html": [
              "\n",
              "  <div id=\"df-be96dded-7071-4153-81cd-1d3b82978cc9\">\n",
              "    <div class=\"colab-df-container\">\n",
              "      <div>\n",
              "<style scoped>\n",
              "    .dataframe tbody tr th:only-of-type {\n",
              "        vertical-align: middle;\n",
              "    }\n",
              "\n",
              "    .dataframe tbody tr th {\n",
              "        vertical-align: top;\n",
              "    }\n",
              "\n",
              "    .dataframe thead th {\n",
              "        text-align: right;\n",
              "    }\n",
              "</style>\n",
              "<table border=\"1\" class=\"dataframe\">\n",
              "  <thead>\n",
              "    <tr style=\"text-align: right;\">\n",
              "      <th></th>\n",
              "      <th>year</th>\n",
              "      <th>month</th>\n",
              "      <th>temp</th>\n",
              "    </tr>\n",
              "  </thead>\n",
              "  <tbody>\n",
              "    <tr>\n",
              "      <th>0</th>\n",
              "      <td>1952.0</td>\n",
              "      <td>1.0</td>\n",
              "      <td>-1.400966</td>\n",
              "    </tr>\n",
              "    <tr>\n",
              "      <th>1</th>\n",
              "      <td>1952.0</td>\n",
              "      <td>2.0</td>\n",
              "      <td>-4.000000</td>\n",
              "    </tr>\n",
              "    <tr>\n",
              "      <th>2</th>\n",
              "      <td>1952.0</td>\n",
              "      <td>3.0</td>\n",
              "      <td>-10.106838</td>\n",
              "    </tr>\n",
              "    <tr>\n",
              "      <th>3</th>\n",
              "      <td>1952.0</td>\n",
              "      <td>4.0</td>\n",
              "      <td>4.226190</td>\n",
              "    </tr>\n",
              "    <tr>\n",
              "      <th>4</th>\n",
              "      <td>1952.0</td>\n",
              "      <td>5.0</td>\n",
              "      <td>7.037037</td>\n",
              "    </tr>\n",
              "    <tr>\n",
              "      <th>5</th>\n",
              "      <td>1952.0</td>\n",
              "      <td>6.0</td>\n",
              "      <td>13.611111</td>\n",
              "    </tr>\n",
              "    <tr>\n",
              "      <th>6</th>\n",
              "      <td>1952.0</td>\n",
              "      <td>7.0</td>\n",
              "      <td>16.230159</td>\n",
              "    </tr>\n",
              "    <tr>\n",
              "      <th>7</th>\n",
              "      <td>1952.0</td>\n",
              "      <td>8.0</td>\n",
              "      <td>14.157706</td>\n",
              "    </tr>\n",
              "    <tr>\n",
              "      <th>8</th>\n",
              "      <td>1952.0</td>\n",
              "      <td>9.0</td>\n",
              "      <td>8.461538</td>\n",
              "    </tr>\n",
              "    <tr>\n",
              "      <th>9</th>\n",
              "      <td>1952.0</td>\n",
              "      <td>10.0</td>\n",
              "      <td>2.162698</td>\n",
              "    </tr>\n",
              "    <tr>\n",
              "      <th>10</th>\n",
              "      <td>1952.0</td>\n",
              "      <td>11.0</td>\n",
              "      <td>-2.380952</td>\n",
              "    </tr>\n",
              "    <tr>\n",
              "      <th>11</th>\n",
              "      <td>1952.0</td>\n",
              "      <td>12.0</td>\n",
              "      <td>-2.911111</td>\n",
              "    </tr>\n",
              "    <tr>\n",
              "      <th>12</th>\n",
              "      <td>1953.0</td>\n",
              "      <td>1.0</td>\n",
              "      <td>-5.396825</td>\n",
              "    </tr>\n",
              "  </tbody>\n",
              "</table>\n",
              "</div>\n",
              "      <button class=\"colab-df-convert\" onclick=\"convertToInteractive('df-be96dded-7071-4153-81cd-1d3b82978cc9')\"\n",
              "              title=\"Convert this dataframe to an interactive table.\"\n",
              "              style=\"display:none;\">\n",
              "        \n",
              "  <svg xmlns=\"http://www.w3.org/2000/svg\" height=\"24px\"viewBox=\"0 0 24 24\"\n",
              "       width=\"24px\">\n",
              "    <path d=\"M0 0h24v24H0V0z\" fill=\"none\"/>\n",
              "    <path d=\"M18.56 5.44l.94 2.06.94-2.06 2.06-.94-2.06-.94-.94-2.06-.94 2.06-2.06.94zm-11 1L8.5 8.5l.94-2.06 2.06-.94-2.06-.94L8.5 2.5l-.94 2.06-2.06.94zm10 10l.94 2.06.94-2.06 2.06-.94-2.06-.94-.94-2.06-.94 2.06-2.06.94z\"/><path d=\"M17.41 7.96l-1.37-1.37c-.4-.4-.92-.59-1.43-.59-.52 0-1.04.2-1.43.59L10.3 9.45l-7.72 7.72c-.78.78-.78 2.05 0 2.83L4 21.41c.39.39.9.59 1.41.59.51 0 1.02-.2 1.41-.59l7.78-7.78 2.81-2.81c.8-.78.8-2.07 0-2.86zM5.41 20L4 18.59l7.72-7.72 1.47 1.35L5.41 20z\"/>\n",
              "  </svg>\n",
              "      </button>\n",
              "      \n",
              "  <style>\n",
              "    .colab-df-container {\n",
              "      display:flex;\n",
              "      flex-wrap:wrap;\n",
              "      gap: 12px;\n",
              "    }\n",
              "\n",
              "    .colab-df-convert {\n",
              "      background-color: #E8F0FE;\n",
              "      border: none;\n",
              "      border-radius: 50%;\n",
              "      cursor: pointer;\n",
              "      display: none;\n",
              "      fill: #1967D2;\n",
              "      height: 32px;\n",
              "      padding: 0 0 0 0;\n",
              "      width: 32px;\n",
              "    }\n",
              "\n",
              "    .colab-df-convert:hover {\n",
              "      background-color: #E2EBFA;\n",
              "      box-shadow: 0px 1px 2px rgba(60, 64, 67, 0.3), 0px 1px 3px 1px rgba(60, 64, 67, 0.15);\n",
              "      fill: #174EA6;\n",
              "    }\n",
              "\n",
              "    [theme=dark] .colab-df-convert {\n",
              "      background-color: #3B4455;\n",
              "      fill: #D2E3FC;\n",
              "    }\n",
              "\n",
              "    [theme=dark] .colab-df-convert:hover {\n",
              "      background-color: #434B5C;\n",
              "      box-shadow: 0px 1px 3px 1px rgba(0, 0, 0, 0.15);\n",
              "      filter: drop-shadow(0px 1px 2px rgba(0, 0, 0, 0.3));\n",
              "      fill: #FFFFFF;\n",
              "    }\n",
              "  </style>\n",
              "\n",
              "      <script>\n",
              "        const buttonEl =\n",
              "          document.querySelector('#df-be96dded-7071-4153-81cd-1d3b82978cc9 button.colab-df-convert');\n",
              "        buttonEl.style.display =\n",
              "          google.colab.kernel.accessAllowed ? 'block' : 'none';\n",
              "\n",
              "        async function convertToInteractive(key) {\n",
              "          const element = document.querySelector('#df-be96dded-7071-4153-81cd-1d3b82978cc9');\n",
              "          const dataTable =\n",
              "            await google.colab.kernel.invokeFunction('convertToInteractive',\n",
              "                                                     [key], {});\n",
              "          if (!dataTable) return;\n",
              "\n",
              "          const docLinkHtml = 'Like what you see? Visit the ' +\n",
              "            '<a target=\"_blank\" href=https://colab.research.google.com/notebooks/data_table.ipynb>data table notebook</a>'\n",
              "            + ' to learn more about interactive tables.';\n",
              "          element.innerHTML = '';\n",
              "          dataTable['output_type'] = 'display_data';\n",
              "          await google.colab.output.renderOutput(dataTable, element);\n",
              "          const docLink = document.createElement('div');\n",
              "          docLink.innerHTML = docLinkHtml;\n",
              "          element.appendChild(docLink);\n",
              "        }\n",
              "      </script>\n",
              "    </div>\n",
              "  </div>\n",
              "  "
            ]
          },
          "metadata": {},
          "execution_count": 3
        }
      ],
      "source": [
        "# Checking the dataset I'm dealing with\n",
        "print(df.info())\n",
        "df.head(13)"
      ]
    },
    {
      "cell_type": "code",
      "source": [
        "# Task 1\n",
        "tmp = df # Duplicating the initial DF in case I need it for Task 2\n",
        "tmp.replace([12.0, 1.0, 2.0], 'winter', inplace=True)\n",
        "tmp.replace([3.0, 4.0, 5.0], 'spring', inplace=True)\n",
        "tmp.replace([6.0, 7.0, 8.0], 'summer', inplace=True)\n",
        "tmp.replace([9.0, 10.0, 11.0], 'autumn', inplace=True)\n",
        "df_seas = tmp.groupby(['year', 'month'])['temp'].mean()\n",
        "print(df_seas) # Answer to Task 1 is here\n",
        "print('')\n",
        "print('')\n",
        "df_t2 = df_seas.reset_index()\n",
        "print(df_t2)"
      ],
      "metadata": {
        "colab": {
          "base_uri": "https://localhost:8080/"
        },
        "id": "PpsRySoDVBGU",
        "outputId": "04fb12ee-7ee6-4e0a-d88c-8bc467b04c0c"
      },
      "execution_count": null,
      "outputs": [
        {
          "output_type": "stream",
          "name": "stdout",
          "text": [
            "year    month \n",
            "1952.0  autumn     2.747761\n",
            "        spring     0.385463\n",
            "        summer    14.666325\n",
            "        winter    -2.770692\n",
            "1953.0  autumn     6.093719\n",
            "                    ...    \n",
            "2015.0  winter     0.171104\n",
            "2016.0  autumn     5.468751\n",
            "        spring     6.190960\n",
            "        summer    16.228594\n",
            "        winter    -3.820706\n",
            "Name: temp, Length: 224, dtype: float64\n",
            "\n",
            "\n",
            "       year   month       temp\n",
            "0    1952.0  autumn   2.747761\n",
            "1    1952.0  spring   0.385463\n",
            "2    1952.0  summer  14.666325\n",
            "3    1952.0  winter  -2.770692\n",
            "4    1953.0  autumn   6.093719\n",
            "..      ...     ...        ...\n",
            "219  2015.0  winter   0.171104\n",
            "220  2016.0  autumn   5.468751\n",
            "221  2016.0  spring   6.190960\n",
            "222  2016.0  summer  16.228594\n",
            "223  2016.0  winter  -3.820706\n",
            "\n",
            "[224 rows x 3 columns]\n"
          ]
        }
      ]
    },
    {
      "cell_type": "code",
      "source": [
        "# I tried multiple methods but couldn't hide that 'non-existent' part of the plot, so I had to use this blunt method, I know it's not elegant but I needed to recreate the result ASAP\n",
        "# I promise that I'll think about the 'smart' way of solving this task during the winter holidays\n",
        "opts = [1964.0, 1965.0, 1966.0, 1967.0, 1968.0, 1969.0, 1970.0, 1971.0, 1972.0]\n",
        "df_t2.loc[df_t2['year'] == 1963.0]\n",
        "\n",
        "df_t2.loc[48.5] = [1965.0, 'autumn', None]\n",
        "df_t2 = df_t2.sort_index().reset_index(drop=True)\n",
        "df_t2.loc[49.5] = [1965.0, 'spring', None]\n",
        "df_t2 = df_t2.sort_index().reset_index(drop=True)\n",
        "df_t2.loc[50.5] = [1965.0, 'summer', None]\n",
        "df_t2 = df_t2.sort_index().reset_index(drop=True)\n",
        "df_t2.loc[51.5] = [1965.0, 'winter', None]\n",
        "df_t2 = df_t2.sort_index().reset_index(drop=True)\n",
        "df_t2.loc[52.5] = [1966.0, 'autumn', None]\n",
        "df_t2 = df_t2.sort_index().reset_index(drop=True)\n",
        "df_t2.loc[53.5] = [1966.0, 'spring', None]\n",
        "df_t2 = df_t2.sort_index().reset_index(drop=True)\n",
        "df_t2.loc[54.5] = [1966.0, 'summer', None]\n",
        "df_t2 = df_t2.sort_index().reset_index(drop=True)\n",
        "df_t2.loc[55.5] = [1966.0, 'winter', None]\n",
        "df_t2 = df_t2.sort_index().reset_index(drop=True)\n",
        "df_t2.loc[56.5] = [1967.0, 'autumn', None]\n",
        "df_t2 = df_t2.sort_index().reset_index(drop=True)\n",
        "df_t2.loc[57.5] = [1967.0, 'spring', None]\n",
        "df_t2 = df_t2.sort_index().reset_index(drop=True)\n",
        "df_t2.loc[58.5] = [1967.0, 'summer', None]\n",
        "df_t2 = df_t2.sort_index().reset_index(drop=True)\n",
        "df_t2.loc[59.5] = [1967.0, 'winter', None]\n",
        "df_t2 = df_t2.sort_index().reset_index(drop=True)\n",
        "df_t2.loc[60.5] = [1968.0, 'autumn', None]\n",
        "df_t2 = df_t2.sort_index().reset_index(drop=True)\n",
        "df_t2.loc[61.5] = [1968.0, 'spring', None]\n",
        "df_t2 = df_t2.sort_index().reset_index(drop=True)\n",
        "df_t2.loc[62.5] = [1968.0, 'summer', None]\n",
        "df_t2 = df_t2.sort_index().reset_index(drop=True)\n",
        "df_t2.loc[63.5] = [1968.0, 'winter', None]\n",
        "df_t2 = df_t2.sort_index().reset_index(drop=True)\n",
        "df_t2.loc[64.5] = [1969.0, 'autumn', None]\n",
        "df_t2 = df_t2.sort_index().reset_index(drop=True)\n",
        "df_t2.loc[65.5] = [1969.0, 'spring', None]\n",
        "df_t2 = df_t2.sort_index().reset_index(drop=True)\n",
        "df_t2.loc[66.5] = [1969.0, 'summer', None]\n",
        "df_t2 = df_t2.sort_index().reset_index(drop=True)\n",
        "df_t2.loc[67.5] = [1969.0, 'winter', None]\n",
        "df_t2 = df_t2.sort_index().reset_index(drop=True)\n",
        "df_t2.loc[68.5] = [1970.0, 'autumn', None]\n",
        "df_t2 = df_t2.sort_index().reset_index(drop=True)\n",
        "df_t2.loc[69.5] = [1970.0, 'spring', None]\n",
        "df_t2 = df_t2.sort_index().reset_index(drop=True)\n",
        "df_t2.loc[70.5] = [1970.0, 'summer', None]\n",
        "df_t2 = df_t2.sort_index().reset_index(drop=True)\n",
        "df_t2.loc[71.5] = [1970.0, 'winter', None]\n",
        "df_t2 = df_t2.sort_index().reset_index(drop=True)\n",
        "df_t2.loc[72.5] = [1971.0, 'autumn', None]\n",
        "df_t2 = df_t2.sort_index().reset_index(drop=True)\n",
        "df_t2.loc[73.5] = [1971.0, 'spring', None]\n",
        "df_t2 = df_t2.sort_index().reset_index(drop=True)\n",
        "df_t2.loc[74.5] = [1971.0, 'summer', None]\n",
        "df_t2 = df_t2.sort_index().reset_index(drop=True)\n",
        "df_t2.loc[75.5] = [1971.0, 'winter', None]\n",
        "df_t2 = df_t2.sort_index().reset_index(drop=True)\n",
        "df_t2.loc[76.5] = [1972.0, 'autumn', None]\n",
        "df_t2 = df_t2.sort_index().reset_index(drop=True)\n",
        "df_t2.loc[77.5] = [1972.0, 'spring', None]\n",
        "df_t2 = df_t2.sort_index().reset_index(drop=True)\n",
        "df_t2.loc[78.5] = [1972.0, 'summer', None]\n",
        "df_t2 = df_t2.sort_index().reset_index(drop=True)\n",
        "df_t2.loc[79.5] = [1972.0, 'winter', None]\n",
        "df_t2 = df_t2.sort_index().reset_index(drop=True)\n",
        "df_t2.loc[df_t2.year == 1970]\n",
        "\n",
        "# dtf = df_t2[df_t2['year'].isin(opts)]\n",
        "# STH WRONG WITH THE TEMP IN 60'S (64-72 both included)\n",
        "# pd.concat([df_t2, dtf]).drop_duplicates(keep=False)"
      ],
      "metadata": {
        "colab": {
          "base_uri": "https://localhost:8080/",
          "height": 175
        },
        "id": "wP3Diy-UH1C7",
        "outputId": "5e9ae8b2-cc7b-471f-b7a4-381e5bdfa16c"
      },
      "execution_count": null,
      "outputs": [
        {
          "output_type": "execute_result",
          "data": {
            "text/plain": [
              "      year   month  temp\n",
              "69  1970.0  autumn   NaN\n",
              "70  1970.0  spring   NaN\n",
              "71  1970.0  summer   NaN\n",
              "72  1970.0  winter   NaN"
            ],
            "text/html": [
              "\n",
              "  <div id=\"df-5c6c98d4-1884-48c9-8127-6678b7ed2950\">\n",
              "    <div class=\"colab-df-container\">\n",
              "      <div>\n",
              "<style scoped>\n",
              "    .dataframe tbody tr th:only-of-type {\n",
              "        vertical-align: middle;\n",
              "    }\n",
              "\n",
              "    .dataframe tbody tr th {\n",
              "        vertical-align: top;\n",
              "    }\n",
              "\n",
              "    .dataframe thead th {\n",
              "        text-align: right;\n",
              "    }\n",
              "</style>\n",
              "<table border=\"1\" class=\"dataframe\">\n",
              "  <thead>\n",
              "    <tr style=\"text-align: right;\">\n",
              "      <th></th>\n",
              "      <th>year</th>\n",
              "      <th>month</th>\n",
              "      <th>temp</th>\n",
              "    </tr>\n",
              "  </thead>\n",
              "  <tbody>\n",
              "    <tr>\n",
              "      <th>69</th>\n",
              "      <td>1970.0</td>\n",
              "      <td>autumn</td>\n",
              "      <td>NaN</td>\n",
              "    </tr>\n",
              "    <tr>\n",
              "      <th>70</th>\n",
              "      <td>1970.0</td>\n",
              "      <td>spring</td>\n",
              "      <td>NaN</td>\n",
              "    </tr>\n",
              "    <tr>\n",
              "      <th>71</th>\n",
              "      <td>1970.0</td>\n",
              "      <td>summer</td>\n",
              "      <td>NaN</td>\n",
              "    </tr>\n",
              "    <tr>\n",
              "      <th>72</th>\n",
              "      <td>1970.0</td>\n",
              "      <td>winter</td>\n",
              "      <td>NaN</td>\n",
              "    </tr>\n",
              "  </tbody>\n",
              "</table>\n",
              "</div>\n",
              "      <button class=\"colab-df-convert\" onclick=\"convertToInteractive('df-5c6c98d4-1884-48c9-8127-6678b7ed2950')\"\n",
              "              title=\"Convert this dataframe to an interactive table.\"\n",
              "              style=\"display:none;\">\n",
              "        \n",
              "  <svg xmlns=\"http://www.w3.org/2000/svg\" height=\"24px\"viewBox=\"0 0 24 24\"\n",
              "       width=\"24px\">\n",
              "    <path d=\"M0 0h24v24H0V0z\" fill=\"none\"/>\n",
              "    <path d=\"M18.56 5.44l.94 2.06.94-2.06 2.06-.94-2.06-.94-.94-2.06-.94 2.06-2.06.94zm-11 1L8.5 8.5l.94-2.06 2.06-.94-2.06-.94L8.5 2.5l-.94 2.06-2.06.94zm10 10l.94 2.06.94-2.06 2.06-.94-2.06-.94-.94-2.06-.94 2.06-2.06.94z\"/><path d=\"M17.41 7.96l-1.37-1.37c-.4-.4-.92-.59-1.43-.59-.52 0-1.04.2-1.43.59L10.3 9.45l-7.72 7.72c-.78.78-.78 2.05 0 2.83L4 21.41c.39.39.9.59 1.41.59.51 0 1.02-.2 1.41-.59l7.78-7.78 2.81-2.81c.8-.78.8-2.07 0-2.86zM5.41 20L4 18.59l7.72-7.72 1.47 1.35L5.41 20z\"/>\n",
              "  </svg>\n",
              "      </button>\n",
              "      \n",
              "  <style>\n",
              "    .colab-df-container {\n",
              "      display:flex;\n",
              "      flex-wrap:wrap;\n",
              "      gap: 12px;\n",
              "    }\n",
              "\n",
              "    .colab-df-convert {\n",
              "      background-color: #E8F0FE;\n",
              "      border: none;\n",
              "      border-radius: 50%;\n",
              "      cursor: pointer;\n",
              "      display: none;\n",
              "      fill: #1967D2;\n",
              "      height: 32px;\n",
              "      padding: 0 0 0 0;\n",
              "      width: 32px;\n",
              "    }\n",
              "\n",
              "    .colab-df-convert:hover {\n",
              "      background-color: #E2EBFA;\n",
              "      box-shadow: 0px 1px 2px rgba(60, 64, 67, 0.3), 0px 1px 3px 1px rgba(60, 64, 67, 0.15);\n",
              "      fill: #174EA6;\n",
              "    }\n",
              "\n",
              "    [theme=dark] .colab-df-convert {\n",
              "      background-color: #3B4455;\n",
              "      fill: #D2E3FC;\n",
              "    }\n",
              "\n",
              "    [theme=dark] .colab-df-convert:hover {\n",
              "      background-color: #434B5C;\n",
              "      box-shadow: 0px 1px 3px 1px rgba(0, 0, 0, 0.15);\n",
              "      filter: drop-shadow(0px 1px 2px rgba(0, 0, 0, 0.3));\n",
              "      fill: #FFFFFF;\n",
              "    }\n",
              "  </style>\n",
              "\n",
              "      <script>\n",
              "        const buttonEl =\n",
              "          document.querySelector('#df-5c6c98d4-1884-48c9-8127-6678b7ed2950 button.colab-df-convert');\n",
              "        buttonEl.style.display =\n",
              "          google.colab.kernel.accessAllowed ? 'block' : 'none';\n",
              "\n",
              "        async function convertToInteractive(key) {\n",
              "          const element = document.querySelector('#df-5c6c98d4-1884-48c9-8127-6678b7ed2950');\n",
              "          const dataTable =\n",
              "            await google.colab.kernel.invokeFunction('convertToInteractive',\n",
              "                                                     [key], {});\n",
              "          if (!dataTable) return;\n",
              "\n",
              "          const docLinkHtml = 'Like what you see? Visit the ' +\n",
              "            '<a target=\"_blank\" href=https://colab.research.google.com/notebooks/data_table.ipynb>data table notebook</a>'\n",
              "            + ' to learn more about interactive tables.';\n",
              "          element.innerHTML = '';\n",
              "          dataTable['output_type'] = 'display_data';\n",
              "          await google.colab.output.renderOutput(dataTable, element);\n",
              "          const docLink = document.createElement('div');\n",
              "          docLink.innerHTML = docLinkHtml;\n",
              "          element.appendChild(docLink);\n",
              "        }\n",
              "      </script>\n",
              "    </div>\n",
              "  </div>\n",
              "  "
            ]
          },
          "metadata": {},
          "execution_count": 56
        }
      ]
    },
    {
      "cell_type": "code",
      "source": [
        "from matplotlib.pyplot import figure\n",
        "fig, axs = plt.subplots(2, 2, figsize=(13, 13), sharex=False)\n",
        "axs[0, 0].plot(df_t2.loc[df_t2['month'] == 'winter', 'year'], df_t2.loc[df_t2['month'] == 'winter', 'temp'], label='Winter')\n",
        "axs[0, 0].grid(color='0.7')\n",
        "axs[0, 0].legend(loc='upper left')\n",
        "axs[0, 0].set_xticks([1950, 1960, 1970, 1980, 1990, 2000, 2010])\n",
        "axs[0, 0].set_ylabel('Temperature [°C]')\n",
        "\n",
        "axs[0, 1].plot(df_t2.loc[df_t2['month'] == 'spring', 'year'], df_t2.loc[df_t2['month'] == 'spring', 'temp'], label='Spring', color='green')\n",
        "axs[0, 1].grid(color='0.7')\n",
        "axs[0, 1].legend(loc='upper left')\n",
        "axs[0, 1].set_xlabel(' ')\n",
        "axs[0, 1].set_xticks([1950, 1960, 1970, 1980, 1990, 2000, 2010])\n",
        "\n",
        "axs[1, 0].plot(df_t2.loc[df_t2['month'] == 'summer', 'year'], df_t2.loc[df_t2['month'] == 'summer', 'temp'], label='Summer', color='red')\n",
        "axs[1, 0].grid(color='0.7')\n",
        "axs[1, 0].legend(loc='upper left')\n",
        "axs[1, 0].set_ylabel('Temperature [°C]')\n",
        "axs[1, 0].set_xlabel('Year')\n",
        "\n",
        "axs[1, 1].plot(df_t2.loc[df_t2['month'] == 'autumn', 'year'], df_t2.loc[df_t2['month'] == 'autumn', 'temp'], label='Autumn', color='orange')\n",
        "axs[1, 1].grid(color='0.7')\n",
        "axs[1, 1].legend(loc='upper left')\n",
        "axs[1, 1].set_xlabel('Year')\n",
        "\n",
        "for ax in axs.flat:\n",
        "    ax.margins(0.1)\n",
        "\n",
        "# I hope this counts as Task 2 solution^^\n",
        "\n",
        "# I tried to make the process autonomous but it didn't work TT\n",
        "#for ax in axs.flat:\n",
        "#    ax.set(xlabel='Year', ylabel='Temperature [°C]')\n",
        "\n",
        "#for ax in axs.flat:\n",
        "#    ax.label_outer()\n",
        "# 4 subplots at once! https://matplotlib.org/stable/gallery/subplots_axes_and_figures/subplots_demo.html\n",
        "# mb sth useful here too https://www.geeksforgeeks.org/plot-multiple-plots-in-matplotlib/"
      ],
      "metadata": {
        "colab": {
          "base_uri": "https://localhost:8080/",
          "height": 769
        },
        "id": "6Dgib716ftnP",
        "outputId": "577118a7-99a1-44fc-d182-4599a10765b0"
      },
      "execution_count": null,
      "outputs": [
        {
          "output_type": "display_data",
          "data": {
            "text/plain": [
              "<Figure size 936x936 with 4 Axes>"
            ],
            "image/png": "[encoded data removed]"
          },
          "metadata": {
            "needs_background": "light"
          }
        }
      ]
    },
    {
      "cell_type": "markdown",
      "metadata": {
        "id": "Q42F5YGVRtBc"
      },
      "source": [
        "## Linear Regression Analysis\n",
        "Use `train.csv` dataset from [Sberbank Russian Housing Market](https://www.kaggle.com/c/sberbank-russian-housing-market/data) competition (you need to register on Kaggle in order to have an access to its datasets).\n",
        "\n",
        "**Useful links**: [scikit-learn documentation](https://scikit-learn.org/stable/supervised_learning.html#supervised-learning), [in depth: linear regression](https://github.com/jakevdp/PythonDataScienceHandbook/blob/master/notebooks/05.06-Linear-Regression.ipynb).\n",
        "\n",
        "---\n",
        "**Task 3**. Using `train.csv` dataset (field's description in `data_dictionary.txt`), split it in two parts at random (use supporting code below) for `train_sample` (80% of observations) and `test_sample` (20% of observations). Perform two linear regression models for `price_doc` prediction for `train_sample` (use both numeric and categorical independent variables in your models).\n",
        "```python\n",
        "import pandas as pd\n",
        "import zipfile\n",
        "\n",
        "zf = zipfile.ZipFile('train.csv.zip') \n",
        "df = pd.read_csv(zf.open('train.csv'))\n",
        "\n",
        "from sklearn.model_selection import train_test_split\n",
        "train_sample, test_sample = train_test_split(df, test_size=0.2)\n",
        "```\n",
        "\n",
        "**Task 4**. Justify your choice and models' quality with supporting tests, charts and comments briefly.\n",
        "\n",
        "**Task 5**. Assess the quality of your models on `test_sample` dataset. Use RMSE metric. Briefly describe whether or not this quality is appropriate."
      ]
    },
    {
      "cell_type": "code",
      "source": [
        "tr = pd.read_csv('train.csv')"
      ],
      "metadata": {
        "id": "UxC_x2anROwS"
      },
      "execution_count": null,
      "outputs": []
    },
    {
      "cell_type": "code",
      "source": [
        "print(tr.head(5))\n",
        "print('')\n",
        "print(tr.life_sq.isnull().loc[tr.life_sq.isnull() == True])\n",
        "print('')\n",
        "tr.price_doc"
      ],
      "metadata": {
        "colab": {
          "base_uri": "https://localhost:8080/"
        },
        "id": "Y0was6dt86l0",
        "outputId": "c392ded5-2712-4e4c-a63e-b2dcc713012d"
      },
      "execution_count": null,
      "outputs": [
        {
          "output_type": "stream",
          "name": "stdout",
          "text": [
            "   id   timestamp  full_sq  life_sq  floor  max_floor  material  build_year  \\\n",
            "0   1  2011-08-20       43     27.0    4.0        NaN       NaN         NaN   \n",
            "1   2  2011-08-23       34     19.0    3.0        NaN       NaN         NaN   \n",
            "2   3  2011-08-27       43     29.0    2.0        NaN       NaN         NaN   \n",
            "3   4  2011-09-01       89     50.0    9.0        NaN       NaN         NaN   \n",
            "4   5  2011-09-05       77     77.0    4.0        NaN       NaN         NaN   \n",
            "\n",
            "   num_room  kitch_sq  ...  cafe_count_5000_price_2500  \\\n",
            "0       NaN       NaN  ...                         9.0   \n",
            "1       NaN       NaN  ...                        15.0   \n",
            "2       NaN       NaN  ...                        10.0   \n",
            "3       NaN       NaN  ...                        11.0   \n",
            "4       NaN       NaN  ...                       319.0   \n",
            "\n",
            "  cafe_count_5000_price_4000 cafe_count_5000_price_high  \\\n",
            "0                        4.0                        0.0   \n",
            "1                        3.0                        0.0   \n",
            "2                        3.0                        0.0   \n",
            "3                        2.0                        1.0   \n",
            "4                      108.0                       17.0   \n",
            "\n",
            "   big_church_count_5000  church_count_5000  mosque_count_5000  \\\n",
            "0                   13.0               22.0                1.0   \n",
            "1                   15.0               29.0                1.0   \n",
            "2                   11.0               27.0                0.0   \n",
            "3                    4.0                4.0                0.0   \n",
            "4                  135.0              236.0                2.0   \n",
            "\n",
            "   leisure_count_5000  sport_count_5000  market_count_5000   price_doc  \n",
            "0                 0.0              52.0                4.0   5850000.0  \n",
            "1                10.0              66.0               14.0   6000000.0  \n",
            "2                 4.0              67.0               10.0   5700000.0  \n",
            "3                 0.0              26.0                3.0  13100000.0  \n",
            "4                91.0             195.0               14.0  16331452.0  \n",
            "\n",
            "[5 rows x 292 columns]\n",
            "\n",
            "559     True\n",
            "624     True\n",
            "783     True\n",
            "824     True\n",
            "834     True\n",
            "        ... \n",
            "8198    True\n",
            "8201    True\n",
            "8202    True\n",
            "8203    True\n",
            "8205    True\n",
            "Name: life_sq, Length: 1769, dtype: bool\n",
            "\n"
          ]
        },
        {
          "output_type": "execute_result",
          "data": {
            "text/plain": [
              "0        5850000.0\n",
              "1        6000000.0\n",
              "2        5700000.0\n",
              "3       13100000.0\n",
              "4       16331452.0\n",
              "           ...    \n",
              "8201     5288828.0\n",
              "8202     6300400.0\n",
              "8203     5343000.0\n",
              "8204     7900000.0\n",
              "8205           NaN\n",
              "Name: price_doc, Length: 8206, dtype: float64"
            ]
          },
          "metadata": {},
          "execution_count": 5
        }
      ]
    },
    {
      "cell_type": "code",
      "source": [
        "np.nan_to_num(tr.full_sq, nan=tr.full_sq.mean(), copy=False)\n",
        "np.nan_to_num(tr.life_sq, nan=tr.life_sq.mean(), copy=False)\n",
        "np.nan_to_num(tr.floor, nan=tr.floor.mean(), copy=False)\n",
        "\n",
        "tr.full_sq.fillna(tr.full_sq.mean())\n",
        "tr.life_sq.fillna(tr.life_sq.mean())\n",
        "tr.floor.fillna(tr.floor.mean())\n",
        "\n",
        "print(tr.full_sq.isnull().loc[tr.full_sq.isnull()])\n",
        "print(tr.life_sq.isnull().loc[tr.life_sq.isnull()])\n",
        "print(tr.floor.isnull().loc[tr.floor.isnull() == True])"
      ],
      "metadata": {
        "colab": {
          "base_uri": "https://localhost:8080/"
        },
        "id": "jl5h8N8H-K9H",
        "outputId": "b2166b2d-842b-46a4-decc-4e434d6ed1a6"
      },
      "execution_count": null,
      "outputs": [
        {
          "output_type": "stream",
          "name": "stdout",
          "text": [
            "Series([], Name: full_sq, dtype: bool)\n",
            "Series([], Name: life_sq, dtype: bool)\n",
            "Series([], Name: floor, dtype: bool)\n"
          ]
        }
      ]
    },
    {
      "cell_type": "code",
      "source": [
        "from sklearn.linear_model import LinearRegression\n",
        "from sklearn.ensemble import RandomForestRegressor\n",
        "from sklearn.metrics import mean_absolute_error\n",
        "from sklearn.metrics import mean_absolute_error\n",
        "from sklearn.tree import DecisionTreeRegressor"
      ],
      "metadata": {
        "id": "Ly12OyNABAaz"
      },
      "execution_count": null,
      "outputs": []
    },
    {
      "cell_type": "code",
      "source": [
        "# Simple Linear Regression\n",
        "train_sample, test_sample = train_test_split(tr, test_size=0.2)\n",
        "\n",
        "model = LinearRegression(fit_intercept=True)\n",
        "\n",
        "rng = np.random.RandomState(1)\n",
        "x = train_sample.life_sq.to_numpy()\n",
        "y = train_sample.price_doc.to_numpy()\n",
        "plt.scatter(x, y)\n",
        "plt.show()\n",
        "model.fit(x[:, np.newaxis], y)\n",
        "\n",
        "xfit = np.linspace(0, 10, 1000)\n",
        "yfit = model.predict(xfit[:, np.newaxis])\n",
        "\n",
        "plt.scatter(x, y)\n",
        "plt.plot(xfit, yfit)\n",
        "plt.show()\n",
        "\n",
        "print(\"Model slope:    \", model.coef_[0])\n",
        "print(\"Model intercept:\", model.intercept_)"
      ],
      "metadata": {
        "colab": {
          "base_uri": "https://localhost:8080/",
          "height": 570
        },
        "id": "Db76Mde9HxlR",
        "outputId": "597aebaa-d1c7-49fc-909a-27d733deaf67"
      },
      "execution_count": null,
      "outputs": [
        {
          "output_type": "display_data",
          "data": {
            "text/plain": [
              "<Figure size 432x288 with 1 Axes>"
            ],
            "image/png": "[encoded data removed]"
          },
          "metadata": {
            "needs_background": "light"
          }
        },
        {
          "output_type": "display_data",
          "data": {
            "text/plain": [
              "<Figure size 432x288 with 1 Axes>"
            ],
            "image/png": "[encoded data removed]"
          },
          "metadata": {
            "needs_background": "light"
          }
        },
        {
          "output_type": "stream",
          "name": "stdout",
          "text": [
            "Model slope:     94712.87202137666\n",
            "Model intercept: 3144505.1604055795\n"
          ]
        }
      ]
    },
    {
      "cell_type": "code",
      "source": [
        "# Models 1 and 2 (decision tree and random forest)\n",
        "y = tr.price_doc\n",
        "feats = ['full_sq', 'life_sq', 'floor']\n",
        "X = tr[feats]\n",
        "print(X)\n",
        "\n",
        "train_X, val_X, train_y, val_y = train_test_split(X, y, random_state=1, test_size=0.2)\n",
        "\n",
        "model1 = DecisionTreeRegressor(random_state=1)\n",
        "model1.fit(train_X, train_y)\n",
        "val_predict1 = model1.predict(val_X)\n",
        "val_mae1 = mean_absolute_error(val_predict1, val_y)\n",
        "print(\"Validation MAE when not specifying max_leaf_nodes: {:,.0f}\".format(val_mae1))\n",
        "print(val_predict1[:5])\n",
        "print(y.head())\n",
        "\n",
        "model2 = RandomForestRegressor(random_state=1)"
      ],
      "metadata": {
        "colab": {
          "base_uri": "https://localhost:8080/",
          "height": 642
        },
        "id": "tAAI0_NAHUFs",
        "outputId": "ae16a3b3-f550-4cfd-be8e-688b058f35f7"
      },
      "execution_count": null,
      "outputs": [
        {
          "output_type": "stream",
          "name": "stdout",
          "text": [
            "      full_sq   life_sq  floor\n",
            "0          43  27.00000    4.0\n",
            "1          34  19.00000    3.0\n",
            "2          43  29.00000    2.0\n",
            "3          89  50.00000    9.0\n",
            "4          77  77.00000    4.0\n",
            "...       ...       ...    ...\n",
            "8201       63  33.66444   15.0\n",
            "8202       82  33.66444    7.0\n",
            "8203       68  33.66444    4.0\n",
            "8204       60  33.00000    8.0\n",
            "8205       75  33.66444    7.0\n",
            "\n",
            "[8206 rows x 3 columns]\n"
          ]
        },
        {
          "output_type": "error",
          "ename": "ValueError",
          "evalue": "ignored",
          "traceback": [
            "\u001b[0;31m---------------------------------------------------------------------------\u001b[0m",
            "\u001b[0;31mValueError\u001b[0m                                Traceback (most recent call last)",
            "\u001b[0;32m<ipython-input-10-ac7678bf79ef>\u001b[0m in \u001b[0;36m<module>\u001b[0;34m\u001b[0m\n\u001b[1;32m      8\u001b[0m \u001b[0;34m\u001b[0m\u001b[0m\n\u001b[1;32m      9\u001b[0m \u001b[0mmodel1\u001b[0m \u001b[0;34m=\u001b[0m \u001b[0mDecisionTreeRegressor\u001b[0m\u001b[0;34m(\u001b[0m\u001b[0mrandom_state\u001b[0m\u001b[0;34m=\u001b[0m\u001b[0;36m1\u001b[0m\u001b[0;34m)\u001b[0m\u001b[0;34m\u001b[0m\u001b[0;34m\u001b[0m\u001b[0m\n\u001b[0;32m---> 10\u001b[0;31m \u001b[0mmodel1\u001b[0m\u001b[0;34m.\u001b[0m\u001b[0mfit\u001b[0m\u001b[0;34m(\u001b[0m\u001b[0mtrain_X\u001b[0m\u001b[0;34m,\u001b[0m \u001b[0mtrain_y\u001b[0m\u001b[0;34m)\u001b[0m\u001b[0;34m\u001b[0m\u001b[0;34m\u001b[0m\u001b[0m\n\u001b[0m\u001b[1;32m     11\u001b[0m \u001b[0mval_predict1\u001b[0m \u001b[0;34m=\u001b[0m \u001b[0mmodel1\u001b[0m\u001b[0;34m.\u001b[0m\u001b[0mpredict\u001b[0m\u001b[0;34m(\u001b[0m\u001b[0mval_X\u001b[0m\u001b[0;34m)\u001b[0m\u001b[0;34m\u001b[0m\u001b[0;34m\u001b[0m\u001b[0m\n\u001b[1;32m     12\u001b[0m \u001b[0mval_mae1\u001b[0m \u001b[0;34m=\u001b[0m \u001b[0mmean_absolute_error\u001b[0m\u001b[0;34m(\u001b[0m\u001b[0mval_predict1\u001b[0m\u001b[0;34m,\u001b[0m \u001b[0mval_y\u001b[0m\u001b[0;34m)\u001b[0m\u001b[0;34m\u001b[0m\u001b[0;34m\u001b[0m\u001b[0m\n",
            "\u001b[0;32m/usr/local/lib/python3.8/dist-packages/sklearn/tree/_classes.py\u001b[0m in \u001b[0;36mfit\u001b[0;34m(self, X, y, sample_weight, check_input, X_idx_sorted)\u001b[0m\n\u001b[1;32m   1313\u001b[0m         \"\"\"\n\u001b[1;32m   1314\u001b[0m \u001b[0;34m\u001b[0m\u001b[0m\n\u001b[0;32m-> 1315\u001b[0;31m         super().fit(\n\u001b[0m\u001b[1;32m   1316\u001b[0m             \u001b[0mX\u001b[0m\u001b[0;34m,\u001b[0m\u001b[0;34m\u001b[0m\u001b[0;34m\u001b[0m\u001b[0m\n\u001b[1;32m   1317\u001b[0m             \u001b[0my\u001b[0m\u001b[0;34m,\u001b[0m\u001b[0;34m\u001b[0m\u001b[0;34m\u001b[0m\u001b[0m\n",
            "\u001b[0;32m/usr/local/lib/python3.8/dist-packages/sklearn/tree/_classes.py\u001b[0m in \u001b[0;36mfit\u001b[0;34m(self, X, y, sample_weight, check_input, X_idx_sorted)\u001b[0m\n\u001b[1;32m    163\u001b[0m             \u001b[0mcheck_X_params\u001b[0m \u001b[0;34m=\u001b[0m \u001b[0mdict\u001b[0m\u001b[0;34m(\u001b[0m\u001b[0mdtype\u001b[0m\u001b[0;34m=\u001b[0m\u001b[0mDTYPE\u001b[0m\u001b[0;34m,\u001b[0m \u001b[0maccept_sparse\u001b[0m\u001b[0;34m=\u001b[0m\u001b[0;34m\"csc\"\u001b[0m\u001b[0;34m)\u001b[0m\u001b[0;34m\u001b[0m\u001b[0;34m\u001b[0m\u001b[0m\n\u001b[1;32m    164\u001b[0m             \u001b[0mcheck_y_params\u001b[0m \u001b[0;34m=\u001b[0m \u001b[0mdict\u001b[0m\u001b[0;34m(\u001b[0m\u001b[0mensure_2d\u001b[0m\u001b[0;34m=\u001b[0m\u001b[0;32mFalse\u001b[0m\u001b[0;34m,\u001b[0m \u001b[0mdtype\u001b[0m\u001b[0;34m=\u001b[0m\u001b[0;32mNone\u001b[0m\u001b[0;34m)\u001b[0m\u001b[0;34m\u001b[0m\u001b[0;34m\u001b[0m\u001b[0m\n\u001b[0;32m--> 165\u001b[0;31m             X, y = self._validate_data(\n\u001b[0m\u001b[1;32m    166\u001b[0m                 \u001b[0mX\u001b[0m\u001b[0;34m,\u001b[0m \u001b[0my\u001b[0m\u001b[0;34m,\u001b[0m \u001b[0mvalidate_separately\u001b[0m\u001b[0;34m=\u001b[0m\u001b[0;34m(\u001b[0m\u001b[0mcheck_X_params\u001b[0m\u001b[0;34m,\u001b[0m \u001b[0mcheck_y_params\u001b[0m\u001b[0;34m)\u001b[0m\u001b[0;34m\u001b[0m\u001b[0;34m\u001b[0m\u001b[0m\n\u001b[1;32m    167\u001b[0m             )\n",
            "\u001b[0;32m/usr/local/lib/python3.8/dist-packages/sklearn/base.py\u001b[0m in \u001b[0;36m_validate_data\u001b[0;34m(self, X, y, reset, validate_separately, **check_params)\u001b[0m\n\u001b[1;32m    577\u001b[0m                 \u001b[0mcheck_X_params\u001b[0m\u001b[0;34m,\u001b[0m \u001b[0mcheck_y_params\u001b[0m \u001b[0;34m=\u001b[0m \u001b[0mvalidate_separately\u001b[0m\u001b[0;34m\u001b[0m\u001b[0;34m\u001b[0m\u001b[0m\n\u001b[1;32m    578\u001b[0m                 \u001b[0mX\u001b[0m \u001b[0;34m=\u001b[0m \u001b[0mcheck_array\u001b[0m\u001b[0;34m(\u001b[0m\u001b[0mX\u001b[0m\u001b[0;34m,\u001b[0m \u001b[0;34m**\u001b[0m\u001b[0mcheck_X_params\u001b[0m\u001b[0;34m)\u001b[0m\u001b[0;34m\u001b[0m\u001b[0;34m\u001b[0m\u001b[0m\n\u001b[0;32m--> 579\u001b[0;31m                 \u001b[0my\u001b[0m \u001b[0;34m=\u001b[0m \u001b[0mcheck_array\u001b[0m\u001b[0;34m(\u001b[0m\u001b[0my\u001b[0m\u001b[0;34m,\u001b[0m \u001b[0;34m**\u001b[0m\u001b[0mcheck_y_params\u001b[0m\u001b[0;34m)\u001b[0m\u001b[0;34m\u001b[0m\u001b[0;34m\u001b[0m\u001b[0m\n\u001b[0m\u001b[1;32m    580\u001b[0m             \u001b[0;32melse\u001b[0m\u001b[0;34m:\u001b[0m\u001b[0;34m\u001b[0m\u001b[0;34m\u001b[0m\u001b[0m\n\u001b[1;32m    581\u001b[0m                 \u001b[0mX\u001b[0m\u001b[0;34m,\u001b[0m \u001b[0my\u001b[0m \u001b[0;34m=\u001b[0m \u001b[0mcheck_X_y\u001b[0m\u001b[0;34m(\u001b[0m\u001b[0mX\u001b[0m\u001b[0;34m,\u001b[0m \u001b[0my\u001b[0m\u001b[0;34m,\u001b[0m \u001b[0;34m**\u001b[0m\u001b[0mcheck_params\u001b[0m\u001b[0;34m)\u001b[0m\u001b[0;34m\u001b[0m\u001b[0;34m\u001b[0m\u001b[0m\n",
            "\u001b[0;32m/usr/local/lib/python3.8/dist-packages/sklearn/utils/validation.py\u001b[0m in \u001b[0;36mcheck_array\u001b[0;34m(array, accept_sparse, accept_large_sparse, dtype, order, copy, force_all_finite, ensure_2d, allow_nd, ensure_min_samples, ensure_min_features, estimator)\u001b[0m\n\u001b[1;32m    798\u001b[0m \u001b[0;34m\u001b[0m\u001b[0m\n\u001b[1;32m    799\u001b[0m         \u001b[0;32mif\u001b[0m \u001b[0mforce_all_finite\u001b[0m\u001b[0;34m:\u001b[0m\u001b[0;34m\u001b[0m\u001b[0;34m\u001b[0m\u001b[0m\n\u001b[0;32m--> 800\u001b[0;31m             \u001b[0m_assert_all_finite\u001b[0m\u001b[0;34m(\u001b[0m\u001b[0marray\u001b[0m\u001b[0;34m,\u001b[0m \u001b[0mallow_nan\u001b[0m\u001b[0;34m=\u001b[0m\u001b[0mforce_all_finite\u001b[0m \u001b[0;34m==\u001b[0m \u001b[0;34m\"allow-nan\"\u001b[0m\u001b[0;34m)\u001b[0m\u001b[0;34m\u001b[0m\u001b[0;34m\u001b[0m\u001b[0m\n\u001b[0m\u001b[1;32m    801\u001b[0m \u001b[0;34m\u001b[0m\u001b[0m\n\u001b[1;32m    802\u001b[0m     \u001b[0;32mif\u001b[0m \u001b[0mensure_min_samples\u001b[0m \u001b[0;34m>\u001b[0m \u001b[0;36m0\u001b[0m\u001b[0;34m:\u001b[0m\u001b[0;34m\u001b[0m\u001b[0;34m\u001b[0m\u001b[0m\n",
            "\u001b[0;32m/usr/local/lib/python3.8/dist-packages/sklearn/utils/validation.py\u001b[0m in \u001b[0;36m_assert_all_finite\u001b[0;34m(X, allow_nan, msg_dtype)\u001b[0m\n\u001b[1;32m    112\u001b[0m         ):\n\u001b[1;32m    113\u001b[0m             \u001b[0mtype_err\u001b[0m \u001b[0;34m=\u001b[0m \u001b[0;34m\"infinity\"\u001b[0m \u001b[0;32mif\u001b[0m \u001b[0mallow_nan\u001b[0m \u001b[0;32melse\u001b[0m \u001b[0;34m\"NaN, infinity\"\u001b[0m\u001b[0;34m\u001b[0m\u001b[0;34m\u001b[0m\u001b[0m\n\u001b[0;32m--> 114\u001b[0;31m             raise ValueError(\n\u001b[0m\u001b[1;32m    115\u001b[0m                 msg_err.format(\n\u001b[1;32m    116\u001b[0m                     \u001b[0mtype_err\u001b[0m\u001b[0;34m,\u001b[0m \u001b[0mmsg_dtype\u001b[0m \u001b[0;32mif\u001b[0m \u001b[0mmsg_dtype\u001b[0m \u001b[0;32mis\u001b[0m \u001b[0;32mnot\u001b[0m \u001b[0;32mNone\u001b[0m \u001b[0;32melse\u001b[0m \u001b[0mX\u001b[0m\u001b[0;34m.\u001b[0m\u001b[0mdtype\u001b[0m\u001b[0;34m\u001b[0m\u001b[0;34m\u001b[0m\u001b[0m\n",
            "\u001b[0;31mValueError\u001b[0m: Input contains NaN, infinity or a value too large for dtype('float64')."
          ]
        }
      ]
    },
    {
      "cell_type": "markdown",
      "metadata": {
        "id": "zTbkoc0CRtBf"
      },
      "source": [
        "## K-Nearest Neighbors Analysis\n",
        "Use any financial ticker (except S&P500) to create the trading strategy, using KNN classifier.\n",
        "\n",
        "**Hint**. Use [this material](https://blog.quantinsti.com/machine-learning-k-nearest-neighbors-knn-algorithm-python/) to start your own calculations. [This link](https://pypi.org/project/fix-yahoo-finance/0.1.30/) with library fixes might be helpful.\n",
        "\n",
        "**Useful link**: [scikit-learn documentation](https://scikit-learn.org/stable/supervised_learning.html#supervised-learning).\n",
        "\n",
        "---\n",
        "**Task 6**. Upload data for one ticker (for the recent year) from Yahoo Finance. Make brief exploratory analysis of obtained data.\n",
        "\n",
        "**Task 7**. Apply KNN classifier to obtained data. Assess the quality of the model. Create and briefly justify the trading strategy."
      ]
    },
    {
      "cell_type": "code",
      "source": [
        "!pip install yfinance"
      ],
      "metadata": {
        "id": "1B_jhMWPRVNM"
      },
      "execution_count": null,
      "outputs": []
    },
    {
      "cell_type": "code",
      "execution_count": null,
      "metadata": {
        "id": "s5v4-hV-RtBg"
      },
      "outputs": [],
      "source": [
        "# Setup for Tasks 6 and 7\n",
        "from sklearn.neighbors import KNeighborsClassifier\n",
        "from sklearn.metrics import accuracy_score\n",
        "\n",
        "from pandas_datareader import data as pdr\n",
        "import yfinance as yf\n",
        "\n",
        "from pandas.plotting import register_matplotlib_converters\n",
        "register_matplotlib_converters()"
      ]
    },
    {
      "cell_type": "code",
      "source": [
        "!pip install --upgrade pandas\n",
        "!pip install --upgrade pandas-datareader"
      ],
      "metadata": {
        "id": "ZG1wryMac_X9"
      },
      "execution_count": null,
      "outputs": []
    },
    {
      "cell_type": "code",
      "source": [
        "# Task 6\n",
        "# ydf = pdr.get_data_yahoo('NVDA', '2022-01-01', '2022-24-12')\n",
        "\n",
        "# Just like with tasks 8 and 9 the line above just wouldn't work for any ticker from YF\n",
        "# I tried searching StackOverflow and everyone proposed to update pd and pdr, so I did\n",
        "# It never worked, so I had to download the data manually\n",
        "\n",
        "ydf = pd.read_csv('NVDA.csv')\n",
        "print(ydf.head(3))\n",
        "ydf = ydf.dropna()\n",
        "print(ydf.info())\n",
        "print('Highest close price of the year: ', ydf.Close.max())\n",
        "print('Lowest close price of the year: ', ydf.Close.min())\n",
        "print('Total deals with NVDA stock, USD: ', ydf.Volume.sum())\n",
        "print('Highest price per stock accepted: ', ydf.High.max())\n",
        "print('Lowest price per stock accepted: ', ydf.Low.min())\n",
        "print('Average open price of the year: ', ydf.Open.mean())\n",
        "print('Average close price of the year: ', ydf.Close.mean())\n",
        "print('Average price per stock in December, 2022: ', ydf.Close[:24].mean())\n",
        "print('Greatest price difference within trading day: ', (ydf.Close - ydf.Open).max())"
      ],
      "metadata": {
        "colab": {
          "base_uri": "https://localhost:8080/"
        },
        "id": "NY-OmJShUb6J",
        "outputId": "6341fa53-ab19-4376-dc08-833512eca7a8"
      },
      "execution_count": null,
      "outputs": [
        {
          "output_type": "stream",
          "name": "stdout",
          "text": [
            "         Date        Open        High         Low       Close   Adj Close  \\\n",
            "0  2022-01-03  298.149994  307.109985  297.850006  301.209991  300.928589   \n",
            "1  2022-01-04  302.769989  304.679993  283.489990  292.899994  292.626373   \n",
            "2  2022-01-05  289.489990  294.160004  275.329987  276.040009  275.782104   \n",
            "\n",
            "     Volume  \n",
            "0  39154700  \n",
            "1  52715400  \n",
            "2  49806400  \n",
            "<class 'pandas.core.frame.DataFrame'>\n",
            "Int64Index: 247 entries, 0 to 246\n",
            "Data columns (total 7 columns):\n",
            " #   Column     Non-Null Count  Dtype  \n",
            "---  ------     --------------  -----  \n",
            " 0   Date       247 non-null    object \n",
            " 1   Open       247 non-null    float64\n",
            " 2   High       247 non-null    float64\n",
            " 3   Low        247 non-null    float64\n",
            " 4   Close      247 non-null    float64\n",
            " 5   Adj Close  247 non-null    float64\n",
            " 6   Volume     247 non-null    int64  \n",
            "dtypes: float64(5), int64(1), object(1)\n",
            "memory usage: 15.4+ KB\n",
            "None\n",
            "Highest close price of the year:  301.209991\n",
            "Lowest close price of the year:  112.269997\n",
            "Total deals with NVDA stock, USD:  13485080700\n",
            "Highest price per stock accepted:  307.109985\n",
            "Lowest price per stock accepted:  108.129997\n",
            "Average open price of the year:  186.46319836032387\n",
            "Average close price of the year:  186.37384604453442\n",
            "Average price per stock in December, 2022:  255.646667375\n",
            "Greatest price difference within trading day:  27.330002000000007\n"
          ]
        }
      ]
    },
    {
      "cell_type": "code",
      "source": [
        "# Still task 6\n",
        "from matplotlib.pyplot import figure\n",
        "from matplotlib import ticker\n",
        "tck = ticker.MaxNLocator(12)\n",
        "fig1, axs1 = plt.subplots(2, 2, figsize=(12, 12), sharex=False)\n",
        "axs1[0, 0].plot(ydf.Date, ydf.Open, label='Open price, USD')\n",
        "axs1[0, 0].grid(color='0.7')\n",
        "axs1[0, 0].legend(loc='upper left')\n",
        "axs1[0, 0].set_xticklabels(ydf.Date, rotation=50)\n",
        "axs1[0, 0].xaxis.set_major_locator(tck)\n",
        "axs1[0, 0].set_ylabel('Open price, USD')\n",
        "\n",
        "axs1[0, 1].plot(ydf.Date, ydf.Close, label='Close price, USD')\n",
        "axs1[0, 1].grid(color='0.7')\n",
        "axs1[0, 1].legend(loc='upper left')\n",
        "axs1[0, 1].set_xticklabels(ydf.Date, rotation=50)\n",
        "axs1[0, 1].xaxis.set_major_locator(tck)\n",
        "axs1[0, 1].set_ylabel('Close price, USD')\n",
        "\n",
        "axs1[1, 0].plot(ydf.Date, ydf.High, label='Highest price, USD')\n",
        "axs1[1, 0].grid(color='0.7')\n",
        "axs1[1, 0].legend(loc='upper left')\n",
        "axs1[1, 0].set_xticklabels(ydf.Date, rotation=50)\n",
        "axs1[1, 0].xaxis.set_major_locator(tck)\n",
        "axs1[1, 0].set_ylabel('Highest price, USD')\n",
        "\n",
        "axs1[1, 1].plot(ydf.Date, ydf.Low, label='Lowest price, USD')\n",
        "axs1[1, 1].grid(color='0.7')\n",
        "axs1[1, 1].legend(loc='upper left')\n",
        "axs1[1, 1].set_xticklabels(ydf.Date, rotation=50)\n",
        "axs1[1, 1].xaxis.set_major_locator(tck)\n",
        "axs1[1, 1].set_ylabel('Lowest price, USD')"
      ],
      "metadata": {
        "colab": {
          "base_uri": "https://localhost:8080/",
          "height": 758
        },
        "id": "wWmlOj_Uv2HX",
        "outputId": "4dde1b79-883f-4872-b3d4-ec71e4555a4c"
      },
      "execution_count": null,
      "outputs": [
        {
          "output_type": "execute_result",
          "data": {
            "text/plain": [
              "Text(0, 0.5, 'Lowest price, USD')"
            ]
          },
          "metadata": {},
          "execution_count": 59
        },
        {
          "output_type": "display_data",
          "data": {
            "text/plain": [
              "<Figure size 864x864 with 4 Axes>"
            ],
            "image/png": "[encoded data removed]"
          },
          "metadata": {
            "needs_background": "light"
          }
        }
      ]
    },
    {
      "cell_type": "code",
      "source": [
        "# Task 7\n",
        "ydf = ydf.set_index(ydf.Date)\n",
        "ydf = ydf[['Open', 'High', 'Low','Close']]\n",
        "ydf.head()\n",
        "\n",
        "ydf['Open-Close']= ydf.Open - ydf.Close\n",
        "ydf['High-Low']  = ydf.High - ydf.Low\n",
        "ydf = ydf.dropna()\n",
        "Xfin = ydf[['Open-Close', 'High-Low']]\n",
        "print(Xfin.head())\n",
        "Y = np.where(ydf['Close'].shift(-1)>ydf['Close'], 1, -1)\n",
        "split_percentage = 0.7\n",
        "split = int(split_percentage*len(ydf))\n",
        "\n",
        "X_train = Xfin[:split]\n",
        "Y_train = Y[:split]\n",
        "\n",
        "X_test = Xfin[split:]\n",
        "Y_test = Y[split:]\n",
        "knn = KNeighborsClassifier(n_neighbors=15)\n",
        "\n",
        "knn.fit(X_train, Y_train)\n",
        "\n",
        "accuracy_train = accuracy_score(Y_train, knn.predict(X_train))\n",
        "accuracy_test = accuracy_score(Y_test, knn.predict(X_test))\n",
        "\n",
        "print ('Train_data Accuracy: %.2f' %accuracy_train)\n",
        "print ('Test_data Accuracy: %.2f' %accuracy_test)"
      ],
      "metadata": {
        "colab": {
          "base_uri": "https://localhost:8080/"
        },
        "id": "JizDfsq2miTU",
        "outputId": "300f6933-8df9-4c91-dc60-005d7c1ec48c"
      },
      "execution_count": null,
      "outputs": [
        {
          "output_type": "stream",
          "name": "stdout",
          "text": [
            "            Open-Close   High-Low\n",
            "Date                             \n",
            "2022-01-03   -3.059997   9.259979\n",
            "2022-01-04    9.869995  21.190003\n",
            "2022-01-05   13.449981  18.830017\n",
            "2022-01-06   -5.380005  13.730011\n",
            "2022-01-07    8.940003  13.649994\n",
            "Train_data Accuracy: 0.62\n",
            "Test_data Accuracy: 0.52\n"
          ]
        }
      ]
    },
    {
      "cell_type": "code",
      "source": [
        "# Still Task 7\n",
        "ydf['Predicted_Point'] = knn.predict(Xfin)\n",
        "\n",
        "# NVDA Cumulative Returns\n",
        "ydf['NVDA_returns'] = np.log(ydf['Close'] / ydf['Close'].shift(1))\n",
        "Cumulative_NVDA_returns = ydf[split:]['NVDA_returns'].cumsum()*100\n",
        "\n",
        "# Cumulative Strategy Returns \n",
        "ydf['Startegy_returns'] = ydf['NVDA_returns'] * ydf['Predicted_Point'].shift(1)\n",
        "Cumulative_Strategy_returns = ydf[split:]['Startegy_returns'].cumsum()*100\n",
        "\n",
        "plt.figure(figsize=(10,5))\n",
        "plt.plot(Cumulative_NVDA_returns, color='g', label='NVDA Returns')\n",
        "plt.plot(Cumulative_Strategy_returns, color='blue', label='Strategy Returns')\n",
        "plt.grid()\n",
        "plt.locator_params(axis='x', nbins=12)\n",
        "plt.legend()\n",
        "plt.show()"
      ],
      "metadata": {
        "colab": {
          "base_uri": "https://localhost:8080/",
          "height": 356
        },
        "id": "4boPKHEr9Yep",
        "outputId": "4b741183-69ec-4161-9ed6-fe0e47c02e17"
      },
      "execution_count": null,
      "outputs": [
        {
          "output_type": "stream",
          "name": "stderr",
          "text": [
            "<ipython-input-69-3ca8e3a01f16>:16: UserWarning: 'set_params()' not defined for locator of type <class 'matplotlib.category.StrCategoryLocator'>\n",
            "  plt.locator_params(axis='x', nbins=12)\n"
          ]
        },
        {
          "output_type": "display_data",
          "data": {
            "text/plain": [
              "<Figure size 720x360 with 1 Axes>"
            ],
            "image/png": "[encoded data removed]"
          },
          "metadata": {
            "needs_background": "light"
          }
        }
      ]
    },
    {
      "cell_type": "code",
      "source": [
        "# Finalizing Task 7\n",
        "Std = Cumulative_Strategy_returns.std()\n",
        "Sharpe = (Cumulative_Strategy_returns-Cumulative_NVDA_returns)/Std\n",
        "Sharpe = Sharpe.mean()\n",
        "print('Sharpe ratio: %.2f'%Sharpe)\n",
        "\n",
        "# Cumulative strategy choice is reasonable due to high sharpe ratio and overall better-than-market performance\n",
        "# depicted on the plot. Moreover, it was presented in the article so it was better understandable to code."
      ],
      "metadata": {
        "colab": {
          "base_uri": "https://localhost:8080/"
        },
        "id": "gCPnCv0yAdaX",
        "outputId": "b5df1c91-d855-40e9-beb7-394e9922308f"
      },
      "execution_count": null,
      "outputs": [
        {
          "output_type": "stream",
          "name": "stdout",
          "text": [
            "Sharpe ratio: 0.80\n"
          ]
        }
      ]
    },
    {
      "cell_type": "markdown",
      "metadata": {
        "id": "3rD4RbuARtBh"
      },
      "source": [
        "## Decision Trees Analysis\n",
        "**Hint**. Use [this material](https://blog.quantinsti.com/decision-tree/) to start your own calculations.\n",
        "\n",
        "**Useful link**: [decision trees and random forests](https://github.com/jakevdp/PythonDataScienceHandbook/blob/8a34a4f653bdbdc01415a94dc20d4e9b97438965/notebooks/05.08-Random-Forests.ipynb).\n",
        "\n",
        "---\n",
        "**Task 8**. Upload data for one ticker (for the recent year) from Quandl. Make brief exploratory analysis of obtained data.\n",
        "\n",
        "**Task 9**. Apply Decision Tree to obtained data. Assess the quality of the model. Create and briefly justify the trading strategy."
      ]
    },
    {
      "cell_type": "code",
      "source": [
        "!pip install quandl"
      ],
      "metadata": {
        "id": "3NkllNxD9CvQ"
      },
      "execution_count": null,
      "outputs": []
    },
    {
      "cell_type": "code",
      "source": [
        "!wget http://prdownloads.sourceforge.net/ta-lib/ta-lib-0.4.0-src.tar.gz\n",
        "!ls\n",
        "!tar xvzf ta-lib-0.4.0-src.tar.gz\n",
        "!ls\n",
        "import os\n",
        "os.chdir('ta-lib')\n",
        "!./configure --prefix=/usr\n",
        "!make\n",
        "!make install\n",
        "os.chdir('../')\n",
        "!ls\n",
        "!pip install TA-Lib\n",
        "import talib"
      ],
      "metadata": {
        "id": "FCPPocoxEyfo"
      },
      "execution_count": null,
      "outputs": []
    },
    {
      "cell_type": "code",
      "execution_count": null,
      "metadata": {
        "id": "R6Gy6gY3RtBi",
        "colab": {
          "base_uri": "https://localhost:8080/"
        },
        "outputId": "a13b896b-595e-4aa7-fd78-087b8068ed7c"
      },
      "outputs": [
        {
          "output_type": "stream",
          "name": "stdout",
          "text": [
            "     ticker       date    open    high     low    close      volume  \\\n",
            "None                                                                  \n",
            "0      AAPL 2018-03-27  173.68  175.15  166.92  168.340  38962839.0   \n",
            "1      AAPL 2018-03-26  168.07  173.10  166.44  172.770  36272617.0   \n",
            "2      AAPL 2018-03-23  168.39  169.92  164.94  164.940  40248954.0   \n",
            "3      AAPL 2018-03-22  170.00  172.68  168.60  168.845  41051076.0   \n",
            "4      AAPL 2018-03-21  175.04  175.09  171.26  171.270  35247358.0   \n",
            "\n",
            "      ex-dividend  split_ratio  adj_open  adj_high  adj_low  adj_close  \\\n",
            "None                                                                     \n",
            "0             0.0          1.0    173.68    175.15   166.92    168.340   \n",
            "1             0.0          1.0    168.07    173.10   166.44    172.770   \n",
            "2             0.0          1.0    168.39    169.92   164.94    164.940   \n",
            "3             0.0          1.0    170.00    172.68   168.60    168.845   \n",
            "4             0.0          1.0    175.04    175.09   171.26    171.270   \n",
            "\n",
            "      adj_volume  \n",
            "None              \n",
            "0     38962839.0  \n",
            "1     36272617.0  \n",
            "2     40248954.0  \n",
            "3     41051076.0  \n",
            "4     35247358.0  \n",
            "     ticker       date   open   high    low  close     volume  ex-dividend  \\\n",
            "None                                                                         \n",
            "9395   AAPL 1980-12-18  26.63  26.75  26.63  26.63   327900.0          0.0   \n",
            "9396   AAPL 1980-12-17  25.87  26.00  25.87  25.87   385900.0          0.0   \n",
            "9397   AAPL 1980-12-16  25.37  25.37  25.25  25.25   472000.0          0.0   \n",
            "9398   AAPL 1980-12-15  27.38  27.38  27.25  27.25   785200.0          0.0   \n",
            "9399   AAPL 1980-12-12  28.75  28.87  28.75  28.75  2093900.0          0.0   \n",
            "\n",
            "      split_ratio  adj_open  adj_high   adj_low  adj_close   adj_volume  \n",
            "None                                                                     \n",
            "9395          1.0  0.391536  0.393300  0.391536   0.391536   18362400.0  \n",
            "9396          1.0  0.380362  0.382273  0.380362   0.380362   21610400.0  \n",
            "9397          1.0  0.373010  0.373010  0.371246   0.371246   26432000.0  \n",
            "9398          1.0  0.402563  0.402563  0.400652   0.400652   43971200.0  \n",
            "9399          1.0  0.422706  0.424470  0.422706   0.422706  117258400.0  \n",
            "(9400, 14)\n",
            "<class 'pandas.core.frame.DataFrame'>\n",
            "RangeIndex: 9400 entries, 0 to 9399\n",
            "Data columns (total 14 columns):\n",
            " #   Column       Non-Null Count  Dtype         \n",
            "---  ------       --------------  -----         \n",
            " 0   ticker       9400 non-null   object        \n",
            " 1   date         9400 non-null   datetime64[ns]\n",
            " 2   open         9400 non-null   float64       \n",
            " 3   high         9400 non-null   float64       \n",
            " 4   low          9400 non-null   float64       \n",
            " 5   close        9400 non-null   float64       \n",
            " 6   volume       9400 non-null   float64       \n",
            " 7   ex-dividend  9400 non-null   float64       \n",
            " 8   split_ratio  9400 non-null   float64       \n",
            " 9   adj_open     9400 non-null   float64       \n",
            " 10  adj_high     9400 non-null   float64       \n",
            " 11  adj_low      9400 non-null   float64       \n",
            " 12  adj_close    9400 non-null   float64       \n",
            " 13  adj_volume   9400 non-null   float64       \n",
            "dtypes: datetime64[ns](1), float64(12), object(1)\n",
            "memory usage: 1.0+ MB\n",
            "None\n",
            "Highest close price:  702.1\n",
            "Lowest close price:  11.0\n",
            "Total deals with AAPL stock, USD:  112664654990.0\n",
            "Highest price per stock accepted:  705.07\n",
            "Lowest price per stock accepted:  11.0\n",
            "Average open price:  101.23343664893618\n",
            "Average close price:  101.19447202127661\n",
            "Greatest price difference within trading session:  30.75999999999999\n"
          ]
        }
      ],
      "source": [
        "# Task 8 starts here\n",
        "import quandl\n",
        "quandl.ApiConfig.api_key = 'wsdUdX1wVfbxEpNCrxQP'\n",
        "\n",
        "findf = quandl.get_table(\"WIKI/PRICES\", ticker = 'AAPL')\n",
        "print(findf.head())\n",
        "print(findf.tail())\n",
        "print(findf.shape)\n",
        "print(findf.info())\n",
        "# EDA rolls in\n",
        "print('Highest close price: ', findf.close.max())\n",
        "print('Lowest close price: ', findf.close.min())\n",
        "print('Total deals with AAPL stock, USD: ', findf.volume.sum())\n",
        "print('Highest price per stock accepted: ', findf.high.max())\n",
        "print('Lowest price per stock accepted: ', findf.low.min())\n",
        "print('Average open price: ', findf.open.mean())\n",
        "print('Average close price: ', findf.close.mean())\n",
        "print('Greatest price difference within trading session: ', (findf.close - findf.open).max())"
      ]
    },
    {
      "cell_type": "code",
      "source": [
        "import talib as ta\n",
        "findf['EMA10'] = ta.EMA(findf['close'].values, timeperiod=10)\n",
        "findf['EMA30'] = ta.EMA(findf['close'].values, timeperiod=30)\n",
        "findf['ATR'] = ta.ATR(findf['high'].values, findf['low'].values, findf['close'].values, timeperiod=14)\n",
        "findf['ADX'] = ta.ADX(findf['high'].values, findf['low'].values, findf['close'].values, timeperiod=14)\n",
        "findf['RSI'] = ta.RSI(findf['close'].values, timeperiod=14)\n",
        "macd, macdsignal, macdhist = ta.MACD(findf['close'].values, fastperiod=12, slowperiod=26, signalperiod=9)\n",
        "findf['MACD'] = macd\n",
        "findf['MACDsignal'] = macdsignal\n",
        "print(findf.tail())\n",
        "findf.head()"
      ],
      "metadata": {
        "colab": {
          "base_uri": "https://localhost:8080/",
          "height": 869
        },
        "id": "4-iwjSl4EtuL",
        "outputId": "2da1b589-8b29-4a6f-deeb-4991a75301e4"
      },
      "execution_count": null,
      "outputs": [
        {
          "output_type": "stream",
          "name": "stdout",
          "text": [
            "     ticker       date   open   high    low  close     volume  ex-dividend  \\\n",
            "None                                                                         \n",
            "9395   AAPL 1980-12-18  26.63  26.75  26.63  26.63   327900.0          0.0   \n",
            "9396   AAPL 1980-12-17  25.87  26.00  25.87  25.87   385900.0          0.0   \n",
            "9397   AAPL 1980-12-16  25.37  25.37  25.25  25.25   472000.0          0.0   \n",
            "9398   AAPL 1980-12-15  27.38  27.38  27.25  27.25   785200.0          0.0   \n",
            "9399   AAPL 1980-12-12  28.75  28.87  28.75  28.75  2093900.0          0.0   \n",
            "\n",
            "      split_ratio  adj_open  ...   adj_low  adj_close   adj_volume      EMA10  \\\n",
            "None                         ...                                                \n",
            "9395          1.0  0.391536  ...  0.391536   0.391536   18362400.0  30.814946   \n",
            "9396          1.0  0.380362  ...  0.380362   0.380362   21610400.0  29.915865   \n",
            "9397          1.0  0.373010  ...  0.371246   0.371246   26432000.0  29.067526   \n",
            "9398          1.0  0.402563  ...  0.400652   0.400652   43971200.0  28.737066   \n",
            "9399          1.0  0.422706  ...  0.422706   0.422706  117258400.0  28.739418   \n",
            "\n",
            "          EMA30       ATR        ADX        RSI      MACD  MACDsignal  \n",
            "None                                                                   \n",
            "9395  30.988290  1.168166  22.951690  34.259025 -0.085142    0.816217  \n",
            "9396  30.658078  1.139011  23.739690  32.523086 -0.493302    0.554313  \n",
            "9397  30.309170  1.101939  24.670989  31.136974 -0.856922    0.272066  \n",
            "9398  30.111804  1.175372  24.277922  40.017779 -0.972500    0.023153  \n",
            "9399  30.023946  1.207131  23.119595  45.676283 -0.932312   -0.167940  \n",
            "\n",
            "[5 rows x 21 columns]\n"
          ]
        },
        {
          "output_type": "execute_result",
          "data": {
            "text/plain": [
              "     ticker       date    open    high     low    close      volume  \\\n",
              "None                                                                  \n",
              "0      AAPL 2018-03-27  173.68  175.15  166.92  168.340  38962839.0   \n",
              "1      AAPL 2018-03-26  168.07  173.10  166.44  172.770  36272617.0   \n",
              "2      AAPL 2018-03-23  168.39  169.92  164.94  164.940  40248954.0   \n",
              "3      AAPL 2018-03-22  170.00  172.68  168.60  168.845  41051076.0   \n",
              "4      AAPL 2018-03-21  175.04  175.09  171.26  171.270  35247358.0   \n",
              "\n",
              "      ex-dividend  split_ratio  adj_open  ...  adj_low  adj_close  adj_volume  \\\n",
              "None                                      ...                                   \n",
              "0             0.0          1.0    173.68  ...   166.92    168.340  38962839.0   \n",
              "1             0.0          1.0    168.07  ...   166.44    172.770  36272617.0   \n",
              "2             0.0          1.0    168.39  ...   164.94    164.940  40248954.0   \n",
              "3             0.0          1.0    170.00  ...   168.60    168.845  41051076.0   \n",
              "4             0.0          1.0    175.04  ...   171.26    171.270  35247358.0   \n",
              "\n",
              "      EMA10  EMA30  ATR  ADX  RSI  MACD  MACDsignal  \n",
              "None                                                 \n",
              "0       NaN    NaN  NaN  NaN  NaN   NaN         NaN  \n",
              "1       NaN    NaN  NaN  NaN  NaN   NaN         NaN  \n",
              "2       NaN    NaN  NaN  NaN  NaN   NaN         NaN  \n",
              "3       NaN    NaN  NaN  NaN  NaN   NaN         NaN  \n",
              "4       NaN    NaN  NaN  NaN  NaN   NaN         NaN  \n",
              "\n",
              "[5 rows x 21 columns]"
            ],
            "text/html": [
              "\n",
              "  <div id=\"df-4dc89f0a-96bb-4e2a-9762-de7027c92371\">\n",
              "    <div class=\"colab-df-container\">\n",
              "      <div>\n",
              "<style scoped>\n",
              "    .dataframe tbody tr th:only-of-type {\n",
              "        vertical-align: middle;\n",
              "    }\n",
              "\n",
              "    .dataframe tbody tr th {\n",
              "        vertical-align: top;\n",
              "    }\n",
              "\n",
              "    .dataframe thead th {\n",
              "        text-align: right;\n",
              "    }\n",
              "</style>\n",
              "<table border=\"1\" class=\"dataframe\">\n",
              "  <thead>\n",
              "    <tr style=\"text-align: right;\">\n",
              "      <th></th>\n",
              "      <th>ticker</th>\n",
              "      <th>date</th>\n",
              "      <th>open</th>\n",
              "      <th>high</th>\n",
              "      <th>low</th>\n",
              "      <th>close</th>\n",
              "      <th>volume</th>\n",
              "      <th>ex-dividend</th>\n",
              "      <th>split_ratio</th>\n",
              "      <th>adj_open</th>\n",
              "      <th>...</th>\n",
              "      <th>adj_low</th>\n",
              "      <th>adj_close</th>\n",
              "      <th>adj_volume</th>\n",
              "      <th>EMA10</th>\n",
              "      <th>EMA30</th>\n",
              "      <th>ATR</th>\n",
              "      <th>ADX</th>\n",
              "      <th>RSI</th>\n",
              "      <th>MACD</th>\n",
              "      <th>MACDsignal</th>\n",
              "    </tr>\n",
              "    <tr>\n",
              "      <th>None</th>\n",
              "      <th></th>\n",
              "      <th></th>\n",
              "      <th></th>\n",
              "      <th></th>\n",
              "      <th></th>\n",
              "      <th></th>\n",
              "      <th></th>\n",
              "      <th></th>\n",
              "      <th></th>\n",
              "      <th></th>\n",
              "      <th></th>\n",
              "      <th></th>\n",
              "      <th></th>\n",
              "      <th></th>\n",
              "      <th></th>\n",
              "      <th></th>\n",
              "      <th></th>\n",
              "      <th></th>\n",
              "      <th></th>\n",
              "      <th></th>\n",
              "      <th></th>\n",
              "    </tr>\n",
              "  </thead>\n",
              "  <tbody>\n",
              "    <tr>\n",
              "      <th>0</th>\n",
              "      <td>AAPL</td>\n",
              "      <td>2018-03-27</td>\n",
              "      <td>173.68</td>\n",
              "      <td>175.15</td>\n",
              "      <td>166.92</td>\n",
              "      <td>168.340</td>\n",
              "      <td>38962839.0</td>\n",
              "      <td>0.0</td>\n",
              "      <td>1.0</td>\n",
              "      <td>173.68</td>\n",
              "      <td>...</td>\n",
              "      <td>166.92</td>\n",
              "      <td>168.340</td>\n",
              "      <td>38962839.0</td>\n",
              "      <td>NaN</td>\n",
              "      <td>NaN</td>\n",
              "      <td>NaN</td>\n",
              "      <td>NaN</td>\n",
              "      <td>NaN</td>\n",
              "      <td>NaN</td>\n",
              "      <td>NaN</td>\n",
              "    </tr>\n",
              "    <tr>\n",
              "      <th>1</th>\n",
              "      <td>AAPL</td>\n",
              "      <td>2018-03-26</td>\n",
              "      <td>168.07</td>\n",
              "      <td>173.10</td>\n",
              "      <td>166.44</td>\n",
              "      <td>172.770</td>\n",
              "      <td>36272617.0</td>\n",
              "      <td>0.0</td>\n",
              "      <td>1.0</td>\n",
              "      <td>168.07</td>\n",
              "      <td>...</td>\n",
              "      <td>166.44</td>\n",
              "      <td>172.770</td>\n",
              "      <td>36272617.0</td>\n",
              "      <td>NaN</td>\n",
              "      <td>NaN</td>\n",
              "      <td>NaN</td>\n",
              "      <td>NaN</td>\n",
              "      <td>NaN</td>\n",
              "      <td>NaN</td>\n",
              "      <td>NaN</td>\n",
              "    </tr>\n",
              "    <tr>\n",
              "      <th>2</th>\n",
              "      <td>AAPL</td>\n",
              "      <td>2018-03-23</td>\n",
              "      <td>168.39</td>\n",
              "      <td>169.92</td>\n",
              "      <td>164.94</td>\n",
              "      <td>164.940</td>\n",
              "      <td>40248954.0</td>\n",
              "      <td>0.0</td>\n",
              "      <td>1.0</td>\n",
              "      <td>168.39</td>\n",
              "      <td>...</td>\n",
              "      <td>164.94</td>\n",
              "      <td>164.940</td>\n",
              "      <td>40248954.0</td>\n",
              "      <td>NaN</td>\n",
              "      <td>NaN</td>\n",
              "      <td>NaN</td>\n",
              "      <td>NaN</td>\n",
              "      <td>NaN</td>\n",
              "      <td>NaN</td>\n",
              "      <td>NaN</td>\n",
              "    </tr>\n",
              "    <tr>\n",
              "      <th>3</th>\n",
              "      <td>AAPL</td>\n",
              "      <td>2018-03-22</td>\n",
              "      <td>170.00</td>\n",
              "      <td>172.68</td>\n",
              "      <td>168.60</td>\n",
              "      <td>168.845</td>\n",
              "      <td>41051076.0</td>\n",
              "      <td>0.0</td>\n",
              "      <td>1.0</td>\n",
              "      <td>170.00</td>\n",
              "      <td>...</td>\n",
              "      <td>168.60</td>\n",
              "      <td>168.845</td>\n",
              "      <td>41051076.0</td>\n",
              "      <td>NaN</td>\n",
              "      <td>NaN</td>\n",
              "      <td>NaN</td>\n",
              "      <td>NaN</td>\n",
              "      <td>NaN</td>\n",
              "      <td>NaN</td>\n",
              "      <td>NaN</td>\n",
              "    </tr>\n",
              "    <tr>\n",
              "      <th>4</th>\n",
              "      <td>AAPL</td>\n",
              "      <td>2018-03-21</td>\n",
              "      <td>175.04</td>\n",
              "      <td>175.09</td>\n",
              "      <td>171.26</td>\n",
              "      <td>171.270</td>\n",
              "      <td>35247358.0</td>\n",
              "      <td>0.0</td>\n",
              "      <td>1.0</td>\n",
              "      <td>175.04</td>\n",
              "      <td>...</td>\n",
              "      <td>171.26</td>\n",
              "      <td>171.270</td>\n",
              "      <td>35247358.0</td>\n",
              "      <td>NaN</td>\n",
              "      <td>NaN</td>\n",
              "      <td>NaN</td>\n",
              "      <td>NaN</td>\n",
              "      <td>NaN</td>\n",
              "      <td>NaN</td>\n",
              "      <td>NaN</td>\n",
              "    </tr>\n",
              "  </tbody>\n",
              "</table>\n",
              "<p>5 rows × 21 columns</p>\n",
              "</div>\n",
              "      <button class=\"colab-df-convert\" onclick=\"convertToInteractive('df-4dc89f0a-96bb-4e2a-9762-de7027c92371')\"\n",
              "              title=\"Convert this dataframe to an interactive table.\"\n",
              "              style=\"display:none;\">\n",
              "        \n",
              "  <svg xmlns=\"http://www.w3.org/2000/svg\" height=\"24px\"viewBox=\"0 0 24 24\"\n",
              "       width=\"24px\">\n",
              "    <path d=\"M0 0h24v24H0V0z\" fill=\"none\"/>\n",
              "    <path d=\"M18.56 5.44l.94 2.06.94-2.06 2.06-.94-2.06-.94-.94-2.06-.94 2.06-2.06.94zm-11 1L8.5 8.5l.94-2.06 2.06-.94-2.06-.94L8.5 2.5l-.94 2.06-2.06.94zm10 10l.94 2.06.94-2.06 2.06-.94-2.06-.94-.94-2.06-.94 2.06-2.06.94z\"/><path d=\"M17.41 7.96l-1.37-1.37c-.4-.4-.92-.59-1.43-.59-.52 0-1.04.2-1.43.59L10.3 9.45l-7.72 7.72c-.78.78-.78 2.05 0 2.83L4 21.41c.39.39.9.59 1.41.59.51 0 1.02-.2 1.41-.59l7.78-7.78 2.81-2.81c.8-.78.8-2.07 0-2.86zM5.41 20L4 18.59l7.72-7.72 1.47 1.35L5.41 20z\"/>\n",
              "  </svg>\n",
              "      </button>\n",
              "      \n",
              "  <style>\n",
              "    .colab-df-container {\n",
              "      display:flex;\n",
              "      flex-wrap:wrap;\n",
              "      gap: 12px;\n",
              "    }\n",
              "\n",
              "    .colab-df-convert {\n",
              "      background-color: #E8F0FE;\n",
              "      border: none;\n",
              "      border-radius: 50%;\n",
              "      cursor: pointer;\n",
              "      display: none;\n",
              "      fill: #1967D2;\n",
              "      height: 32px;\n",
              "      padding: 0 0 0 0;\n",
              "      width: 32px;\n",
              "    }\n",
              "\n",
              "    .colab-df-convert:hover {\n",
              "      background-color: #E2EBFA;\n",
              "      box-shadow: 0px 1px 2px rgba(60, 64, 67, 0.3), 0px 1px 3px 1px rgba(60, 64, 67, 0.15);\n",
              "      fill: #174EA6;\n",
              "    }\n",
              "\n",
              "    [theme=dark] .colab-df-convert {\n",
              "      background-color: #3B4455;\n",
              "      fill: #D2E3FC;\n",
              "    }\n",
              "\n",
              "    [theme=dark] .colab-df-convert:hover {\n",
              "      background-color: #434B5C;\n",
              "      box-shadow: 0px 1px 3px 1px rgba(0, 0, 0, 0.15);\n",
              "      filter: drop-shadow(0px 1px 2px rgba(0, 0, 0, 0.3));\n",
              "      fill: #FFFFFF;\n",
              "    }\n",
              "  </style>\n",
              "\n",
              "      <script>\n",
              "        const buttonEl =\n",
              "          document.querySelector('#df-4dc89f0a-96bb-4e2a-9762-de7027c92371 button.colab-df-convert');\n",
              "        buttonEl.style.display =\n",
              "          google.colab.kernel.accessAllowed ? 'block' : 'none';\n",
              "\n",
              "        async function convertToInteractive(key) {\n",
              "          const element = document.querySelector('#df-4dc89f0a-96bb-4e2a-9762-de7027c92371');\n",
              "          const dataTable =\n",
              "            await google.colab.kernel.invokeFunction('convertToInteractive',\n",
              "                                                     [key], {});\n",
              "          if (!dataTable) return;\n",
              "\n",
              "          const docLinkHtml = 'Like what you see? Visit the ' +\n",
              "            '<a target=\"_blank\" href=https://colab.research.google.com/notebooks/data_table.ipynb>data table notebook</a>'\n",
              "            + ' to learn more about interactive tables.';\n",
              "          element.innerHTML = '';\n",
              "          dataTable['output_type'] = 'display_data';\n",
              "          await google.colab.output.renderOutput(dataTable, element);\n",
              "          const docLink = document.createElement('div');\n",
              "          docLink.innerHTML = docLinkHtml;\n",
              "          element.appendChild(docLink);\n",
              "        }\n",
              "      </script>\n",
              "    </div>\n",
              "  </div>\n",
              "  "
            ]
          },
          "metadata": {},
          "execution_count": 78
        }
      ]
    },
    {
      "cell_type": "code",
      "source": [
        "findf['Return'] = findf['close'].pct_change(1).shift(-1)\n",
        "findf['target_cls'] = np.where(findf.Return > 0, 1, 0)\n",
        "findf['target_rgs'] = findf['Return']\n",
        "predictors_list = ['ATR', 'ADX','RSI', 'EMA10', 'EMA30', 'MACD', 'MACDsignal']\n",
        "Xaapl = findf[predictors_list]\n",
        "y_cls = findf.target_cls\n",
        "y_rgs = findf.target_rgs\n",
        "yaapl = y_cls\n",
        "X_cls_train, X_cls_test, y_cls_train, y_cls_test = train_test_split(Xaapl, yaapl, test_size=0.3, random_state=432, stratify=yaapl)\n",
        "print(X_cls_train.shape, y_cls_train.shape)\n",
        "print(X_cls_test.shape, y_cls_test.shape)\n",
        "train_length = int(len(findf)*0.70)\n",
        "X_rgs_train = Xaapl[:train_length]\n",
        "X_rgs_test = Xaapl[train_length:]\n",
        "y_rgs_train = y_rgs[:train_length]\n",
        "y_rgs_test = y_rgs[train_length:]\n",
        "from sklearn.tree import DecisionTreeClassifier\n",
        "clf = DecisionTreeClassifier(criterion='gini', max_depth=3, min_samples_leaf=6)\n",
        "clf = clf.fit(X_cls_train, y_cls_train)\n",
        "y_cls_pred = clf.predict(X_cls_test)\n",
        "from sklearn.metrics import classification_report\n",
        "report = classification_report(y_cls_test, y_cls_pred)\n",
        "print(report)"
      ],
      "metadata": {
        "id": "NKpAW1xcMSrF"
      },
      "execution_count": null,
      "outputs": []
    },
    {
      "cell_type": "markdown",
      "metadata": {
        "id": "eTdmVj4WRtBj"
      },
      "source": [
        "## Face Detection\n",
        "**Hint**. Use [this material](https://towardsdatascience.com/simple-face-detection-in-python-1fcda0ea648e) to start your own calculations.\n",
        "\n",
        "**Useful link**: [mainfold learning](https://github.com/jakevdp/PythonDataScienceHandbook/blob/8a34a4f653bdbdc01415a94dc20d4e9b97438965/notebooks/05.10-Manifold-Learning.ipynb).\n",
        "\n",
        "---\n",
        "\n",
        "**Task 10**. Provide the face detection for your photo with rectangular border around your face (use material and examples above).\n",
        "\n",
        "*In accordance with GSOM bylaws, your photo (image) will be only processed and stored in purposes of this HomeWork assessment and will not be distributed to third-parties.*"
      ]
    },
    {
      "cell_type": "code",
      "execution_count": null,
      "metadata": {
        "id": "EqluOvTeRtBj"
      },
      "outputs": [],
      "source": [
        "# Task 10 starts here\n",
        "import cv2\n",
        "from google.colab.patches import cv2_imshow"
      ]
    },
    {
      "cell_type": "code",
      "source": [
        "face_cascade = cv2.CascadeClassifier('face_detector.xml')\n",
        "img = cv2.imread('face_train.jpg')\n",
        "faces = face_cascade.detectMultiScale(img, 1.1, 4)\n",
        "for (x, y, w, h) in faces: \n",
        "  cv2.rectangle(img, (x, y), (x+w, y+h), (255, 196, 0), 3)\n",
        "cv2.imwrite('face_detected.png', img) \n",
        "print('Successfully saved, go check that border around your face (prolly)')\n",
        "# I checked some images both in colab and on my local machine\n",
        "# Everything works fine, the default border thickness of 2 is a bit too thin imo\n",
        "# I even found and image that wasn't recognized, guess it's due to me wearing a headset\n",
        "# with a microphone near my mouth.\n",
        "# Those open-sourcers who wrote that xml are literal heroes. I wonder how it works being a\n",
        "# mark-up language, though"
      ],
      "metadata": {
        "id": "YrEd4NAdksAo",
        "colab": {
          "base_uri": "https://localhost:8080/"
        },
        "outputId": "f656fddc-cded-42d9-e9da-2c34334a91a7"
      },
      "execution_count": null,
      "outputs": [
        {
          "output_type": "stream",
          "name": "stdout",
          "text": [
            "Successfully saved, go check that border around your face (prolly)\n"
          ]
        }
      ]
    }
  ],
  "metadata": {
    "kernelspec": {
      "display_name": "Python 3 (ipykernel)",
      "language": "python",
      "name": "python3"
    },
    "language_info": {
      "codemirror_mode": {
        "name": "ipython",
        "version": 3
      },
      "file_extension": ".py",
      "mimetype": "text/x-python",
      "name": "python",
      "nbconvert_exporter": "python",
      "pygments_lexer": "ipython3",
      "version": "3.7.1"
    },
    "colab": {
      "provenance": []
    }
  },
  "nbformat": 4,
  "nbformat_minor": 0
}